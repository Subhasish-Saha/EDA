{
  "nbformat": 4,
  "nbformat_minor": 0,
  "metadata": {
    "colab": {
      "name": "IPL Data Analysis.ipynb",
      "provenance": [],
      "collapsed_sections": [],
      "mount_file_id": "1WwHQJu1x_Wro11J3z6lcJdKTbd8w5YJC",
      "authorship_tag": "ABX9TyPi2qlEHYxlYICxKHUR/acP",
      "include_colab_link": true
    },
    "kernelspec": {
      "name": "python3",
      "display_name": "Python 3"
    },
    "language_info": {
      "name": "python"
    }
  },
  "cells": [
    {
      "cell_type": "markdown",
      "metadata": {
        "id": "view-in-github",
        "colab_type": "text"
      },
      "source": [
        "<a href=\"https://colab.research.google.com/github/Subhasish-Saha/Projects/blob/main/Data%20Analysis/IPL_Data_Analysis.ipynb\" target=\"_parent\"><img src=\"https://colab.research.google.com/assets/colab-badge.svg\" alt=\"Open In Colab\"/></a>"
      ]
    },
    {
      "cell_type": "markdown",
      "metadata": {
        "id": "YAp_s3NgP7Dy"
      },
      "source": [
        "#IPL DATA ANALYSIS PROJECT"
      ]
    },
    {
      "cell_type": "code",
      "metadata": {
        "id": "O_yXiv1AN6o7"
      },
      "source": [
        "import numpy as np\n",
        "import pandas as pd\n",
        "import seaborn as sns\n",
        "from matplotlib import pyplot as plt"
      ],
      "execution_count": null,
      "outputs": []
    },
    {
      "cell_type": "code",
      "metadata": {
        "id": "-VI_FZmjaw36"
      },
      "source": [
        "ipl = pd.read_csv('/content/drive/MyDrive/DATASETS/IPL/matches.csv') #loading the dataset"
      ],
      "execution_count": null,
      "outputs": []
    },
    {
      "cell_type": "code",
      "metadata": {
        "colab": {
          "base_uri": "https://localhost:8080/",
          "height": 452
        },
        "id": "FEc_w9hHa9d3",
        "outputId": "2ca4ee2c-8b7c-4de0-89f8-729f3a206330"
      },
      "source": [
        "ipl.head() #having a glance of the dataset"
      ],
      "execution_count": null,
      "outputs": [
        {
          "output_type": "execute_result",
          "data": {
            "text/html": [
              "<div>\n",
              "<style scoped>\n",
              "    .dataframe tbody tr th:only-of-type {\n",
              "        vertical-align: middle;\n",
              "    }\n",
              "\n",
              "    .dataframe tbody tr th {\n",
              "        vertical-align: top;\n",
              "    }\n",
              "\n",
              "    .dataframe thead th {\n",
              "        text-align: right;\n",
              "    }\n",
              "</style>\n",
              "<table border=\"1\" class=\"dataframe\">\n",
              "  <thead>\n",
              "    <tr style=\"text-align: right;\">\n",
              "      <th></th>\n",
              "      <th>id</th>\n",
              "      <th>Season</th>\n",
              "      <th>city</th>\n",
              "      <th>date</th>\n",
              "      <th>team1</th>\n",
              "      <th>team2</th>\n",
              "      <th>toss_winner</th>\n",
              "      <th>toss_decision</th>\n",
              "      <th>result</th>\n",
              "      <th>dl_applied</th>\n",
              "      <th>winner</th>\n",
              "      <th>win_by_runs</th>\n",
              "      <th>win_by_wickets</th>\n",
              "      <th>player_of_match</th>\n",
              "      <th>venue</th>\n",
              "      <th>umpire1</th>\n",
              "      <th>umpire2</th>\n",
              "      <th>umpire3</th>\n",
              "    </tr>\n",
              "  </thead>\n",
              "  <tbody>\n",
              "    <tr>\n",
              "      <th>0</th>\n",
              "      <td>1</td>\n",
              "      <td>IPL-2017</td>\n",
              "      <td>Hyderabad</td>\n",
              "      <td>05-04-2017</td>\n",
              "      <td>Sunrisers Hyderabad</td>\n",
              "      <td>Royal Challengers Bangalore</td>\n",
              "      <td>Royal Challengers Bangalore</td>\n",
              "      <td>field</td>\n",
              "      <td>normal</td>\n",
              "      <td>0</td>\n",
              "      <td>Sunrisers Hyderabad</td>\n",
              "      <td>35</td>\n",
              "      <td>0</td>\n",
              "      <td>Yuvraj Singh</td>\n",
              "      <td>Rajiv Gandhi International Stadium, Uppal</td>\n",
              "      <td>AY Dandekar</td>\n",
              "      <td>NJ Llong</td>\n",
              "      <td>NaN</td>\n",
              "    </tr>\n",
              "    <tr>\n",
              "      <th>1</th>\n",
              "      <td>2</td>\n",
              "      <td>IPL-2017</td>\n",
              "      <td>Pune</td>\n",
              "      <td>06-04-2017</td>\n",
              "      <td>Mumbai Indians</td>\n",
              "      <td>Rising Pune Supergiant</td>\n",
              "      <td>Rising Pune Supergiant</td>\n",
              "      <td>field</td>\n",
              "      <td>normal</td>\n",
              "      <td>0</td>\n",
              "      <td>Rising Pune Supergiant</td>\n",
              "      <td>0</td>\n",
              "      <td>7</td>\n",
              "      <td>SPD Smith</td>\n",
              "      <td>Maharashtra Cricket Association Stadium</td>\n",
              "      <td>A Nand Kishore</td>\n",
              "      <td>S Ravi</td>\n",
              "      <td>NaN</td>\n",
              "    </tr>\n",
              "    <tr>\n",
              "      <th>2</th>\n",
              "      <td>3</td>\n",
              "      <td>IPL-2017</td>\n",
              "      <td>Rajkot</td>\n",
              "      <td>07-04-2017</td>\n",
              "      <td>Gujarat Lions</td>\n",
              "      <td>Kolkata Knight Riders</td>\n",
              "      <td>Kolkata Knight Riders</td>\n",
              "      <td>field</td>\n",
              "      <td>normal</td>\n",
              "      <td>0</td>\n",
              "      <td>Kolkata Knight Riders</td>\n",
              "      <td>0</td>\n",
              "      <td>10</td>\n",
              "      <td>CA Lynn</td>\n",
              "      <td>Saurashtra Cricket Association Stadium</td>\n",
              "      <td>Nitin Menon</td>\n",
              "      <td>CK Nandan</td>\n",
              "      <td>NaN</td>\n",
              "    </tr>\n",
              "    <tr>\n",
              "      <th>3</th>\n",
              "      <td>4</td>\n",
              "      <td>IPL-2017</td>\n",
              "      <td>Indore</td>\n",
              "      <td>08-04-2017</td>\n",
              "      <td>Rising Pune Supergiant</td>\n",
              "      <td>Kings XI Punjab</td>\n",
              "      <td>Kings XI Punjab</td>\n",
              "      <td>field</td>\n",
              "      <td>normal</td>\n",
              "      <td>0</td>\n",
              "      <td>Kings XI Punjab</td>\n",
              "      <td>0</td>\n",
              "      <td>6</td>\n",
              "      <td>GJ Maxwell</td>\n",
              "      <td>Holkar Cricket Stadium</td>\n",
              "      <td>AK Chaudhary</td>\n",
              "      <td>C Shamshuddin</td>\n",
              "      <td>NaN</td>\n",
              "    </tr>\n",
              "    <tr>\n",
              "      <th>4</th>\n",
              "      <td>5</td>\n",
              "      <td>IPL-2017</td>\n",
              "      <td>Bangalore</td>\n",
              "      <td>08-04-2017</td>\n",
              "      <td>Royal Challengers Bangalore</td>\n",
              "      <td>Delhi Daredevils</td>\n",
              "      <td>Royal Challengers Bangalore</td>\n",
              "      <td>bat</td>\n",
              "      <td>normal</td>\n",
              "      <td>0</td>\n",
              "      <td>Royal Challengers Bangalore</td>\n",
              "      <td>15</td>\n",
              "      <td>0</td>\n",
              "      <td>KM Jadhav</td>\n",
              "      <td>M Chinnaswamy Stadium</td>\n",
              "      <td>NaN</td>\n",
              "      <td>NaN</td>\n",
              "      <td>NaN</td>\n",
              "    </tr>\n",
              "  </tbody>\n",
              "</table>\n",
              "</div>"
            ],
            "text/plain": [
              "   id    Season       city  ...         umpire1        umpire2 umpire3\n",
              "0   1  IPL-2017  Hyderabad  ...     AY Dandekar       NJ Llong     NaN\n",
              "1   2  IPL-2017       Pune  ...  A Nand Kishore         S Ravi     NaN\n",
              "2   3  IPL-2017     Rajkot  ...     Nitin Menon      CK Nandan     NaN\n",
              "3   4  IPL-2017     Indore  ...    AK Chaudhary  C Shamshuddin     NaN\n",
              "4   5  IPL-2017  Bangalore  ...             NaN            NaN     NaN\n",
              "\n",
              "[5 rows x 18 columns]"
            ]
          },
          "metadata": {},
          "execution_count": 5
        }
      ]
    },
    {
      "cell_type": "code",
      "metadata": {
        "colab": {
          "base_uri": "https://localhost:8080/"
        },
        "id": "pCrhFL8Tbr0D",
        "outputId": "679334f3-6ca8-4671-8cf6-6b8c233e53a2"
      },
      "source": [
        "ipl.shape #looking at the number of rows and columns of the dataset"
      ],
      "execution_count": null,
      "outputs": [
        {
          "output_type": "execute_result",
          "data": {
            "text/plain": [
              "(756, 18)"
            ]
          },
          "metadata": {},
          "execution_count": 6
        }
      ]
    },
    {
      "cell_type": "code",
      "metadata": {
        "colab": {
          "base_uri": "https://localhost:8080/"
        },
        "id": "GfYvmZLclhmn",
        "outputId": "c0075abe-624b-4d4b-fec6-a1d2be17f6f4"
      },
      "source": [
        "ipl[\"player_of_match\"].value_counts() #Getting the frequency of most man of the matches awards"
      ],
      "execution_count": null,
      "outputs": [
        {
          "output_type": "execute_result",
          "data": {
            "text/plain": [
              "CH Gayle          21\n",
              "AB de Villiers    20\n",
              "MS Dhoni          17\n",
              "RG Sharma         17\n",
              "DA Warner         17\n",
              "                  ..\n",
              "M Kartik           1\n",
              "AD Mathews         1\n",
              "TL Suman           1\n",
              "LJ Wright          1\n",
              "DJ Hooda           1\n",
              "Name: player_of_match, Length: 226, dtype: int64"
            ]
          },
          "metadata": {},
          "execution_count": 7
        }
      ]
    },
    {
      "cell_type": "code",
      "metadata": {
        "colab": {
          "base_uri": "https://localhost:8080/"
        },
        "id": "JXThnWPImGN_",
        "outputId": "c17e3582-3813-40a2-86da-7d124772cd39"
      },
      "source": [
        "ipl[\"player_of_match\"].value_counts()[0:10] #Getting the frequency of top 10 man of the matches awards"
      ],
      "execution_count": null,
      "outputs": [
        {
          "output_type": "execute_result",
          "data": {
            "text/plain": [
              "CH Gayle          21\n",
              "AB de Villiers    20\n",
              "MS Dhoni          17\n",
              "RG Sharma         17\n",
              "DA Warner         17\n",
              "YK Pathan         16\n",
              "SR Watson         15\n",
              "SK Raina          14\n",
              "G Gambhir         13\n",
              "V Kohli           12\n",
              "Name: player_of_match, dtype: int64"
            ]
          },
          "metadata": {},
          "execution_count": 8
        }
      ]
    },
    {
      "cell_type": "code",
      "metadata": {
        "colab": {
          "base_uri": "https://localhost:8080/"
        },
        "id": "ECa6StsimrGy",
        "outputId": "91aec59a-29e9-486f-99ed-1aa75a6bf619"
      },
      "source": [
        "list(ipl[\"player_of_match\"].value_counts()[0:10].keys()) #Getting the names of the first 10 man of the matches"
      ],
      "execution_count": null,
      "outputs": [
        {
          "output_type": "execute_result",
          "data": {
            "text/plain": [
              "['CH Gayle',\n",
              " 'AB de Villiers',\n",
              " 'MS Dhoni',\n",
              " 'RG Sharma',\n",
              " 'DA Warner',\n",
              " 'YK Pathan',\n",
              " 'SR Watson',\n",
              " 'SK Raina',\n",
              " 'G Gambhir',\n",
              " 'V Kohli']"
            ]
          },
          "metadata": {},
          "execution_count": 21
        }
      ]
    },
    {
      "cell_type": "code",
      "metadata": {
        "colab": {
          "base_uri": "https://localhost:8080/",
          "height": 320
        },
        "id": "ciIzmgEbove4",
        "outputId": "4a42fd6f-6a16-4af2-f5f2-b9c9bc54eea4"
      },
      "source": [
        "#Making a barplot for the top 5 players with most man of the matches awards\n",
        "plt.figure(figsize=(8,5))\n",
        "plt.bar(list(ipl[\"player_of_match\"].value_counts()[0:5].keys()),list(ipl[\"player_of_match\"].value_counts()[0:5]),color =\"green\")\n",
        "plt.show()"
      ],
      "execution_count": null,
      "outputs": [
        {
          "output_type": "display_data",
          "data": {
            "image/png": "[encoded data removed]",
            "text/plain": [
              "<Figure size 576x360 with 1 Axes>"
            ]
          },
          "metadata": {
            "needs_background": "light"
          }
        }
      ]
    },
    {
      "cell_type": "code",
      "metadata": {
        "colab": {
          "base_uri": "https://localhost:8080/"
        },
        "id": "7x8CgGlIpgIr",
        "outputId": "52ea102d-4947-42a8-9684-64e048efe18d"
      },
      "source": [
        "#getting the frequency of result column\n",
        "ipl['result'].value_counts()"
      ],
      "execution_count": null,
      "outputs": [
        {
          "output_type": "execute_result",
          "data": {
            "text/plain": [
              "normal       743\n",
              "tie            9\n",
              "no result      4\n",
              "Name: result, dtype: int64"
            ]
          },
          "metadata": {},
          "execution_count": 23
        }
      ]
    },
    {
      "cell_type": "code",
      "metadata": {
        "colab": {
          "base_uri": "https://localhost:8080/"
        },
        "id": "Gcthdf4q32nq",
        "outputId": "a3e75467-570a-4037-cfef-31dec45f900c"
      },
      "source": [
        "#getting the nmber of toss win wrt each team\n",
        "ipl['toss_winner'].value_counts()"
      ],
      "execution_count": null,
      "outputs": [
        {
          "output_type": "execute_result",
          "data": {
            "text/plain": [
              "Mumbai Indians                 98\n",
              "Kolkata Knight Riders          92\n",
              "Chennai Super Kings            89\n",
              "Royal Challengers Bangalore    81\n",
              "Kings XI Punjab                81\n",
              "Delhi Daredevils               80\n",
              "Rajasthan Royals               80\n",
              "Sunrisers Hyderabad            46\n",
              "Deccan Chargers                43\n",
              "Pune Warriors                  20\n",
              "Gujarat Lions                  15\n",
              "Delhi Capitals                 10\n",
              "Kochi Tuskers Kerala            8\n",
              "Rising Pune Supergiants         7\n",
              "Rising Pune Supergiant          6\n",
              "Name: toss_winner, dtype: int64"
            ]
          },
          "metadata": {},
          "execution_count": 24
        }
      ]
    },
    {
      "cell_type": "code",
      "metadata": {
        "id": "BzfjBD-j4I78"
      },
      "source": [
        "#Extracting the records where a team won batting first\n",
        "batting_first = ipl[ipl['win_by_runs']!=0]"
      ],
      "execution_count": null,
      "outputs": []
    },
    {
      "cell_type": "code",
      "metadata": {
        "colab": {
          "base_uri": "https://localhost:8080/",
          "height": 417
        },
        "id": "85kI9dsrRiMM",
        "outputId": "2213d8ce-f462-467c-b3b6-9abf1a0406cc"
      },
      "source": [
        "#looking at the head\n",
        "batting_first.head()"
      ],
      "execution_count": null,
      "outputs": [
        {
          "output_type": "execute_result",
          "data": {
            "text/html": [
              "<div>\n",
              "<style scoped>\n",
              "    .dataframe tbody tr th:only-of-type {\n",
              "        vertical-align: middle;\n",
              "    }\n",
              "\n",
              "    .dataframe tbody tr th {\n",
              "        vertical-align: top;\n",
              "    }\n",
              "\n",
              "    .dataframe thead th {\n",
              "        text-align: right;\n",
              "    }\n",
              "</style>\n",
              "<table border=\"1\" class=\"dataframe\">\n",
              "  <thead>\n",
              "    <tr style=\"text-align: right;\">\n",
              "      <th></th>\n",
              "      <th>id</th>\n",
              "      <th>Season</th>\n",
              "      <th>city</th>\n",
              "      <th>date</th>\n",
              "      <th>team1</th>\n",
              "      <th>team2</th>\n",
              "      <th>toss_winner</th>\n",
              "      <th>toss_decision</th>\n",
              "      <th>result</th>\n",
              "      <th>dl_applied</th>\n",
              "      <th>winner</th>\n",
              "      <th>win_by_runs</th>\n",
              "      <th>win_by_wickets</th>\n",
              "      <th>player_of_match</th>\n",
              "      <th>venue</th>\n",
              "      <th>umpire1</th>\n",
              "      <th>umpire2</th>\n",
              "      <th>umpire3</th>\n",
              "    </tr>\n",
              "  </thead>\n",
              "  <tbody>\n",
              "    <tr>\n",
              "      <th>0</th>\n",
              "      <td>1</td>\n",
              "      <td>IPL-2017</td>\n",
              "      <td>Hyderabad</td>\n",
              "      <td>05-04-2017</td>\n",
              "      <td>Sunrisers Hyderabad</td>\n",
              "      <td>Royal Challengers Bangalore</td>\n",
              "      <td>Royal Challengers Bangalore</td>\n",
              "      <td>field</td>\n",
              "      <td>normal</td>\n",
              "      <td>0</td>\n",
              "      <td>Sunrisers Hyderabad</td>\n",
              "      <td>35</td>\n",
              "      <td>0</td>\n",
              "      <td>Yuvraj Singh</td>\n",
              "      <td>Rajiv Gandhi International Stadium, Uppal</td>\n",
              "      <td>AY Dandekar</td>\n",
              "      <td>NJ Llong</td>\n",
              "      <td>NaN</td>\n",
              "    </tr>\n",
              "    <tr>\n",
              "      <th>4</th>\n",
              "      <td>5</td>\n",
              "      <td>IPL-2017</td>\n",
              "      <td>Bangalore</td>\n",
              "      <td>08-04-2017</td>\n",
              "      <td>Royal Challengers Bangalore</td>\n",
              "      <td>Delhi Daredevils</td>\n",
              "      <td>Royal Challengers Bangalore</td>\n",
              "      <td>bat</td>\n",
              "      <td>normal</td>\n",
              "      <td>0</td>\n",
              "      <td>Royal Challengers Bangalore</td>\n",
              "      <td>15</td>\n",
              "      <td>0</td>\n",
              "      <td>KM Jadhav</td>\n",
              "      <td>M Chinnaswamy Stadium</td>\n",
              "      <td>NaN</td>\n",
              "      <td>NaN</td>\n",
              "      <td>NaN</td>\n",
              "    </tr>\n",
              "    <tr>\n",
              "      <th>8</th>\n",
              "      <td>9</td>\n",
              "      <td>IPL-2017</td>\n",
              "      <td>Pune</td>\n",
              "      <td>11-04-2017</td>\n",
              "      <td>Delhi Daredevils</td>\n",
              "      <td>Rising Pune Supergiant</td>\n",
              "      <td>Rising Pune Supergiant</td>\n",
              "      <td>field</td>\n",
              "      <td>normal</td>\n",
              "      <td>0</td>\n",
              "      <td>Delhi Daredevils</td>\n",
              "      <td>97</td>\n",
              "      <td>0</td>\n",
              "      <td>SV Samson</td>\n",
              "      <td>Maharashtra Cricket Association Stadium</td>\n",
              "      <td>AY Dandekar</td>\n",
              "      <td>S Ravi</td>\n",
              "      <td>NaN</td>\n",
              "    </tr>\n",
              "    <tr>\n",
              "      <th>13</th>\n",
              "      <td>14</td>\n",
              "      <td>IPL-2017</td>\n",
              "      <td>Kolkata</td>\n",
              "      <td>15-04-2017</td>\n",
              "      <td>Kolkata Knight Riders</td>\n",
              "      <td>Sunrisers Hyderabad</td>\n",
              "      <td>Sunrisers Hyderabad</td>\n",
              "      <td>field</td>\n",
              "      <td>normal</td>\n",
              "      <td>0</td>\n",
              "      <td>Kolkata Knight Riders</td>\n",
              "      <td>17</td>\n",
              "      <td>0</td>\n",
              "      <td>RV Uthappa</td>\n",
              "      <td>Eden Gardens</td>\n",
              "      <td>AY Dandekar</td>\n",
              "      <td>NJ Llong</td>\n",
              "      <td>NaN</td>\n",
              "    </tr>\n",
              "    <tr>\n",
              "      <th>14</th>\n",
              "      <td>15</td>\n",
              "      <td>IPL-2017</td>\n",
              "      <td>Delhi</td>\n",
              "      <td>15-04-2017</td>\n",
              "      <td>Delhi Daredevils</td>\n",
              "      <td>Kings XI Punjab</td>\n",
              "      <td>Delhi Daredevils</td>\n",
              "      <td>bat</td>\n",
              "      <td>normal</td>\n",
              "      <td>0</td>\n",
              "      <td>Delhi Daredevils</td>\n",
              "      <td>51</td>\n",
              "      <td>0</td>\n",
              "      <td>CJ Anderson</td>\n",
              "      <td>Feroz Shah Kotla</td>\n",
              "      <td>YC Barde</td>\n",
              "      <td>Nitin Menon</td>\n",
              "      <td>NaN</td>\n",
              "    </tr>\n",
              "  </tbody>\n",
              "</table>\n",
              "</div>"
            ],
            "text/plain": [
              "    id    Season       city  ...      umpire1      umpire2 umpire3\n",
              "0    1  IPL-2017  Hyderabad  ...  AY Dandekar     NJ Llong     NaN\n",
              "4    5  IPL-2017  Bangalore  ...          NaN          NaN     NaN\n",
              "8    9  IPL-2017       Pune  ...  AY Dandekar       S Ravi     NaN\n",
              "13  14  IPL-2017    Kolkata  ...  AY Dandekar     NJ Llong     NaN\n",
              "14  15  IPL-2017      Delhi  ...     YC Barde  Nitin Menon     NaN\n",
              "\n",
              "[5 rows x 18 columns]"
            ]
          },
          "metadata": {},
          "execution_count": 4
        }
      ]
    },
    {
      "cell_type": "code",
      "metadata": {
        "colab": {
          "base_uri": "https://localhost:8080/",
          "height": 350
        },
        "id": "7p66JwHMSFJL",
        "outputId": "e80b2ac7-a1f9-44b2-b6e6-3792679101d4"
      },
      "source": [
        "#making a histogram\n",
        "plt.figure(figsize=(5,5))\n",
        "plt.hist(batting_first['win_by_runs'],color='red')\n",
        "plt.title('Distribution of runs')\n",
        "plt.xlabel(\"Runs\")\n",
        "plt.show()"
      ],
      "execution_count": null,
      "outputs": [
        {
          "output_type": "display_data",
          "data": {
            "image/png": "[encoded data removed]",
            "text/plain": [
              "<Figure size 360x360 with 1 Axes>"
            ]
          },
          "metadata": {
            "needs_background": "light"
          }
        }
      ]
    },
    {
      "cell_type": "code",
      "metadata": {
        "colab": {
          "base_uri": "https://localhost:8080/"
        },
        "id": "f29KV0UbTN1k",
        "outputId": "4dbe772f-6a5a-4bca-b2de-44e04a7abe0c"
      },
      "source": [
        "#Finding out the number of wins wrt each team after batting first\n",
        "batting_first['winner'].value_counts()"
      ],
      "execution_count": null,
      "outputs": [
        {
          "output_type": "execute_result",
          "data": {
            "text/plain": [
              "Mumbai Indians                 57\n",
              "Chennai Super Kings            52\n",
              "Kings XI Punjab                38\n",
              "Kolkata Knight Riders          36\n",
              "Royal Challengers Bangalore    35\n",
              "Sunrisers Hyderabad            30\n",
              "Rajasthan Royals               27\n",
              "Delhi Daredevils               25\n",
              "Deccan Chargers                18\n",
              "Pune Warriors                   6\n",
              "Rising Pune Supergiant          5\n",
              "Delhi Capitals                  3\n",
              "Kochi Tuskers Kerala            2\n",
              "Rising Pune Supergiants         2\n",
              "Gujarat Lions                   1\n",
              "Name: winner, dtype: int64"
            ]
          },
          "metadata": {},
          "execution_count": 7
        }
      ]
    },
    {
      "cell_type": "code",
      "metadata": {
        "colab": {
          "base_uri": "https://localhost:8080/",
          "height": 374
        },
        "id": "fMuJNEJyTy0b",
        "outputId": "27154ae2-40c0-43b6-93b7-a9bcab535233"
      },
      "source": [
        "#making a bar-plot for top 3 teams with most wins after batting first\n",
        "plt.figure(figsize=(6,6))\n",
        "plt.bar(list(batting_first['winner'].value_counts()[0:4].keys()),list(batting_first['winner'].value_counts()[0:4]),color=[\"blue\",\"yellow\",\"pink\",\"purple\"])\n",
        "plt.show()"
      ],
      "execution_count": null,
      "outputs": [
        {
          "output_type": "display_data",
          "data": {
            "image/png": "[encoded data removed]",
            "text/plain": [
              "<Figure size 432x432 with 1 Axes>"
            ]
          },
          "metadata": {
            "needs_background": "light"
          }
        }
      ]
    },
    {
      "cell_type": "code",
      "metadata": {
        "colab": {
          "base_uri": "https://localhost:8080/",
          "height": 592
        },
        "id": "PRjH-GNhULHE",
        "outputId": "6a423f3e-1809-43a9-8745-01bb9d866625"
      },
      "source": [
        "#making a pie chart for the above case\n",
        "plt.figure(figsize=(12,12))\n",
        "plt.pie(list(batting_first['winner'].value_counts()),labels=list(batting_first['winner'].value_counts().keys()),autopct='%0.1f%%',)\n",
        "plt.show()"
      ],
      "execution_count": null,
      "outputs": [
        {
          "output_type": "display_data",
          "data": {
            "image/png": "[encoded data removed]",
            "text/plain": [
              "<Figure size 864x864 with 1 Axes>"
            ]
          },
          "metadata": {}
        }
      ]
    },
    {
      "cell_type": "code",
      "metadata": {
        "colab": {
          "base_uri": "https://localhost:8080/",
          "height": 469
        },
        "id": "gytpyyGGbCf_",
        "outputId": "a917ef04-7821-4fa2-f572-429397c95cf8"
      },
      "source": [
        "#extracting those records where a team has won after batting second\n",
        "batting_second=ipl[ipl['win_by_wickets']!=0]\n",
        "batting_second.head() #looking at the head"
      ],
      "execution_count": null,
      "outputs": [
        {
          "output_type": "execute_result",
          "data": {
            "text/html": [
              "<div>\n",
              "<style scoped>\n",
              "    .dataframe tbody tr th:only-of-type {\n",
              "        vertical-align: middle;\n",
              "    }\n",
              "\n",
              "    .dataframe tbody tr th {\n",
              "        vertical-align: top;\n",
              "    }\n",
              "\n",
              "    .dataframe thead th {\n",
              "        text-align: right;\n",
              "    }\n",
              "</style>\n",
              "<table border=\"1\" class=\"dataframe\">\n",
              "  <thead>\n",
              "    <tr style=\"text-align: right;\">\n",
              "      <th></th>\n",
              "      <th>id</th>\n",
              "      <th>Season</th>\n",
              "      <th>city</th>\n",
              "      <th>date</th>\n",
              "      <th>team1</th>\n",
              "      <th>team2</th>\n",
              "      <th>toss_winner</th>\n",
              "      <th>toss_decision</th>\n",
              "      <th>result</th>\n",
              "      <th>dl_applied</th>\n",
              "      <th>winner</th>\n",
              "      <th>win_by_runs</th>\n",
              "      <th>win_by_wickets</th>\n",
              "      <th>player_of_match</th>\n",
              "      <th>venue</th>\n",
              "      <th>umpire1</th>\n",
              "      <th>umpire2</th>\n",
              "      <th>umpire3</th>\n",
              "    </tr>\n",
              "  </thead>\n",
              "  <tbody>\n",
              "    <tr>\n",
              "      <th>1</th>\n",
              "      <td>2</td>\n",
              "      <td>IPL-2017</td>\n",
              "      <td>Pune</td>\n",
              "      <td>06-04-2017</td>\n",
              "      <td>Mumbai Indians</td>\n",
              "      <td>Rising Pune Supergiant</td>\n",
              "      <td>Rising Pune Supergiant</td>\n",
              "      <td>field</td>\n",
              "      <td>normal</td>\n",
              "      <td>0</td>\n",
              "      <td>Rising Pune Supergiant</td>\n",
              "      <td>0</td>\n",
              "      <td>7</td>\n",
              "      <td>SPD Smith</td>\n",
              "      <td>Maharashtra Cricket Association Stadium</td>\n",
              "      <td>A Nand Kishore</td>\n",
              "      <td>S Ravi</td>\n",
              "      <td>NaN</td>\n",
              "    </tr>\n",
              "    <tr>\n",
              "      <th>2</th>\n",
              "      <td>3</td>\n",
              "      <td>IPL-2017</td>\n",
              "      <td>Rajkot</td>\n",
              "      <td>07-04-2017</td>\n",
              "      <td>Gujarat Lions</td>\n",
              "      <td>Kolkata Knight Riders</td>\n",
              "      <td>Kolkata Knight Riders</td>\n",
              "      <td>field</td>\n",
              "      <td>normal</td>\n",
              "      <td>0</td>\n",
              "      <td>Kolkata Knight Riders</td>\n",
              "      <td>0</td>\n",
              "      <td>10</td>\n",
              "      <td>CA Lynn</td>\n",
              "      <td>Saurashtra Cricket Association Stadium</td>\n",
              "      <td>Nitin Menon</td>\n",
              "      <td>CK Nandan</td>\n",
              "      <td>NaN</td>\n",
              "    </tr>\n",
              "    <tr>\n",
              "      <th>3</th>\n",
              "      <td>4</td>\n",
              "      <td>IPL-2017</td>\n",
              "      <td>Indore</td>\n",
              "      <td>08-04-2017</td>\n",
              "      <td>Rising Pune Supergiant</td>\n",
              "      <td>Kings XI Punjab</td>\n",
              "      <td>Kings XI Punjab</td>\n",
              "      <td>field</td>\n",
              "      <td>normal</td>\n",
              "      <td>0</td>\n",
              "      <td>Kings XI Punjab</td>\n",
              "      <td>0</td>\n",
              "      <td>6</td>\n",
              "      <td>GJ Maxwell</td>\n",
              "      <td>Holkar Cricket Stadium</td>\n",
              "      <td>AK Chaudhary</td>\n",
              "      <td>C Shamshuddin</td>\n",
              "      <td>NaN</td>\n",
              "    </tr>\n",
              "    <tr>\n",
              "      <th>5</th>\n",
              "      <td>6</td>\n",
              "      <td>IPL-2017</td>\n",
              "      <td>Hyderabad</td>\n",
              "      <td>09-04-2017</td>\n",
              "      <td>Gujarat Lions</td>\n",
              "      <td>Sunrisers Hyderabad</td>\n",
              "      <td>Sunrisers Hyderabad</td>\n",
              "      <td>field</td>\n",
              "      <td>normal</td>\n",
              "      <td>0</td>\n",
              "      <td>Sunrisers Hyderabad</td>\n",
              "      <td>0</td>\n",
              "      <td>9</td>\n",
              "      <td>Rashid Khan</td>\n",
              "      <td>Rajiv Gandhi International Stadium, Uppal</td>\n",
              "      <td>A Deshmukh</td>\n",
              "      <td>NJ Llong</td>\n",
              "      <td>NaN</td>\n",
              "    </tr>\n",
              "    <tr>\n",
              "      <th>6</th>\n",
              "      <td>7</td>\n",
              "      <td>IPL-2017</td>\n",
              "      <td>Mumbai</td>\n",
              "      <td>09-04-2017</td>\n",
              "      <td>Kolkata Knight Riders</td>\n",
              "      <td>Mumbai Indians</td>\n",
              "      <td>Mumbai Indians</td>\n",
              "      <td>field</td>\n",
              "      <td>normal</td>\n",
              "      <td>0</td>\n",
              "      <td>Mumbai Indians</td>\n",
              "      <td>0</td>\n",
              "      <td>4</td>\n",
              "      <td>N Rana</td>\n",
              "      <td>Wankhede Stadium</td>\n",
              "      <td>Nitin Menon</td>\n",
              "      <td>CK Nandan</td>\n",
              "      <td>NaN</td>\n",
              "    </tr>\n",
              "  </tbody>\n",
              "</table>\n",
              "</div>"
            ],
            "text/plain": [
              "   id    Season       city  ...         umpire1        umpire2 umpire3\n",
              "1   2  IPL-2017       Pune  ...  A Nand Kishore         S Ravi     NaN\n",
              "2   3  IPL-2017     Rajkot  ...     Nitin Menon      CK Nandan     NaN\n",
              "3   4  IPL-2017     Indore  ...    AK Chaudhary  C Shamshuddin     NaN\n",
              "5   6  IPL-2017  Hyderabad  ...      A Deshmukh       NJ Llong     NaN\n",
              "6   7  IPL-2017     Mumbai  ...     Nitin Menon      CK Nandan     NaN\n",
              "\n",
              "[5 rows x 18 columns]"
            ]
          },
          "metadata": {},
          "execution_count": 19
        }
      ]
    },
    {
      "cell_type": "code",
      "metadata": {
        "id": "WKDkyTRrcYcK"
      },
      "source": [
        ""
      ],
      "execution_count": null,
      "outputs": []
    },
    {
      "cell_type": "code",
      "metadata": {
        "colab": {
          "base_uri": "https://localhost:8080/",
          "height": 334
        },
        "id": "sfQDQ054eCBU",
        "outputId": "007ddadc-0ebf-4914-cdae-f00086257109"
      },
      "source": [
        "#making a histogram for the frequency of wins wrt number of wickets\n",
        "plt.figure(figsize=(5,5))\n",
        "plt.hist(batting_second['win_by_wickets'],color='olive',bins =30)\n",
        "plt.ylabel(\"Matches\")\n",
        "plt.xlabel(\"Wickets\")\n",
        "plt.show()"
      ],
      "execution_count": null,
      "outputs": [
        {
          "output_type": "display_data",
          "data": {
            "image/png": "[encoded data removed]",
            "text/plain": [
              "<Figure size 360x360 with 1 Axes>"
            ]
          },
          "metadata": {
            "needs_background": "light"
          }
        }
      ]
    },
    {
      "cell_type": "code",
      "metadata": {
        "colab": {
          "base_uri": "https://localhost:8080/"
        },
        "id": "BwpYKoL5eVRK",
        "outputId": "ae23333a-19b6-4650-bd05-7cb501d74bfc"
      },
      "source": [
        "#finding out the frequency of number of wins wrt each time after batting second\n",
        "batting_second['winner'].value_counts()"
      ],
      "execution_count": null,
      "outputs": [
        {
          "output_type": "execute_result",
          "data": {
            "text/plain": [
              "Kolkata Knight Riders          56\n",
              "Mumbai Indians                 50\n",
              "Chennai Super Kings            48\n",
              "Royal Challengers Bangalore    48\n",
              "Rajasthan Royals               46\n",
              "Delhi Daredevils               42\n",
              "Kings XI Punjab                42\n",
              "Sunrisers Hyderabad            27\n",
              "Gujarat Lions                  12\n",
              "Deccan Chargers                11\n",
              "Delhi Capitals                  6\n",
              "Pune Warriors                   6\n",
              "Rising Pune Supergiant          5\n",
              "Kochi Tuskers Kerala            4\n",
              "Rising Pune Supergiants         3\n",
              "Name: winner, dtype: int64"
            ]
          },
          "metadata": {},
          "execution_count": 25
        }
      ]
    },
    {
      "cell_type": "code",
      "metadata": {
        "id": "vJd6sKJ3jKfe"
      },
      "source": [
        ""
      ],
      "execution_count": null,
      "outputs": []
    },
    {
      "cell_type": "code",
      "metadata": {
        "colab": {
          "base_uri": "https://localhost:8080/",
          "height": 374
        },
        "id": "2a0IclidjcaY",
        "outputId": "d2c30e84-801c-44df-b14c-e1f1303a628c"
      },
      "source": [
        "#making a bar-plot for top 3 teams with most wins after batting second\n",
        "plt.figure(figsize=(6,6))\n",
        "plt.bar(list(batting_second['winner'].value_counts()[0:4].keys()),list(batting_second['winner'].value_counts()[0:4]),color=[\"purple\",\"blue\",\"yellow\",\"red\"])\n",
        "plt.show()"
      ],
      "execution_count": null,
      "outputs": [
        {
          "output_type": "display_data",
          "data": {
            "image/png": "[encoded data removed]",
            "text/plain": [
              "<Figure size 432x432 with 1 Axes>"
            ]
          },
          "metadata": {
            "needs_background": "light"
          }
        }
      ]
    },
    {
      "cell_type": "code",
      "metadata": {
        "colab": {
          "base_uri": "https://localhost:8080/",
          "height": 581
        },
        "id": "2SXVFrgMjtN9",
        "outputId": "c9c443fb-2997-4127-8ae1-3971c1f4474b"
      },
      "source": [
        "#making a pie chart for the above case\n",
        "plt.figure(figsize=(12,12))\n",
        "plt.pie(list(batting_second['winner'].value_counts()),labels=list(batting_second['winner'].value_counts().keys()),autopct='%0.1f%%',)\n",
        "plt.show()"
      ],
      "execution_count": null,
      "outputs": [
        {
          "output_type": "display_data",
          "data": {
            "image/png": "[encoded data removed]",
            "text/plain": [
              "<Figure size 864x864 with 1 Axes>"
            ]
          },
          "metadata": {}
        }
      ]
    },
    {
      "cell_type": "code",
      "metadata": {
        "colab": {
          "base_uri": "https://localhost:8080/"
        },
        "id": "ulbPnf0-kpub",
        "outputId": "96b533cf-e775-4889-a98d-a4e0b89b1b01"
      },
      "source": [
        "#looking at the number of matches played each season\n",
        "ipl['Season'].value_counts()"
      ],
      "execution_count": null,
      "outputs": [
        {
          "output_type": "execute_result",
          "data": {
            "text/plain": [
              "IPL-2013    76\n",
              "IPL-2012    74\n",
              "IPL-2011    73\n",
              "IPL-2014    60\n",
              "IPL-2010    60\n",
              "IPL-2019    60\n",
              "IPL-2016    60\n",
              "IPL-2018    60\n",
              "IPL-2015    59\n",
              "IPL-2017    59\n",
              "IPL-2008    58\n",
              "IPL-2009    57\n",
              "Name: Season, dtype: int64"
            ]
          },
          "metadata": {},
          "execution_count": 30
        }
      ]
    },
    {
      "cell_type": "code",
      "metadata": {
        "colab": {
          "base_uri": "https://localhost:8080/"
        },
        "id": "Mo1CGVSdk-7p",
        "outputId": "5d513e42-a44c-4886-89ac-bea966b4f5e1"
      },
      "source": [
        "#looking at the number of matches played each city\n",
        "ipl['city'].value_counts()"
      ],
      "execution_count": null,
      "outputs": [
        {
          "output_type": "execute_result",
          "data": {
            "text/plain": [
              "Mumbai            101\n",
              "Kolkata            77\n",
              "Delhi              74\n",
              "Bangalore          66\n",
              "Hyderabad          64\n",
              "Chennai            57\n",
              "Jaipur             47\n",
              "Chandigarh         46\n",
              "Pune               38\n",
              "Durban             15\n",
              "Bengaluru          14\n",
              "Visakhapatnam      13\n",
              "Ahmedabad          12\n",
              "Centurion          12\n",
              "Rajkot             10\n",
              "Mohali             10\n",
              "Indore              9\n",
              "Dharamsala          9\n",
              "Johannesburg        8\n",
              "Ranchi              7\n",
              "Port Elizabeth      7\n",
              "Cuttack             7\n",
              "Cape Town           7\n",
              "Abu Dhabi           7\n",
              "Raipur              6\n",
              "Sharjah             6\n",
              "Kochi               5\n",
              "Kanpur              4\n",
              "Nagpur              3\n",
              "Kimberley           3\n",
              "East London         3\n",
              "Bloemfontein        2\n",
              "Name: city, dtype: int64"
            ]
          },
          "metadata": {},
          "execution_count": 31
        }
      ]
    },
    {
      "cell_type": "code",
      "metadata": {
        "colab": {
          "base_uri": "https://localhost:8080/"
        },
        "id": "9G3ULruvlP_V",
        "outputId": "96d8b028-414e-4f94-a7a9-0e5f535b0771"
      },
      "source": [
        "#finding out how many times a team has won the match after winning the toss\n",
        "np.sum(ipl['toss_winner']==ipl['winner'])"
      ],
      "execution_count": null,
      "outputs": [
        {
          "output_type": "execute_result",
          "data": {
            "text/plain": [
              "393"
            ]
          },
          "metadata": {},
          "execution_count": 32
        }
      ]
    },
    {
      "cell_type": "code",
      "metadata": {
        "colab": {
          "base_uri": "https://localhost:8080/"
        },
        "id": "PnWUoxJUlngA",
        "outputId": "6c6517dc-6f6c-438a-8bdb-b6ef66d05a75"
      },
      "source": [
        "ipl.shape"
      ],
      "execution_count": null,
      "outputs": [
        {
          "output_type": "execute_result",
          "data": {
            "text/plain": [
              "(756, 18)"
            ]
          },
          "metadata": {},
          "execution_count": 33
        }
      ]
    },
    {
      "cell_type": "code",
      "metadata": {
        "colab": {
          "base_uri": "https://localhost:8080/"
        },
        "id": "q_AP2YeHlvgq",
        "outputId": "274f558e-c623-4f11-ccb0-df3357442450"
      },
      "source": [
        "393/756   #not that effective"
      ],
      "execution_count": null,
      "outputs": [
        {
          "output_type": "execute_result",
          "data": {
            "text/plain": [
              "0.5198412698412699"
            ]
          },
          "metadata": {},
          "execution_count": 34
        }
      ]
    },
    {
      "cell_type": "code",
      "metadata": {
        "colab": {
          "base_uri": "https://localhost:8080/",
          "height": 400
        },
        "id": "yueWNfgGlyrW",
        "outputId": "949c85f8-5b9c-4a33-fc10-8bded5f6f498"
      },
      "source": [
        "deliveries = pd.read_csv('/content/drive/MyDrive/DATASETS/IPL/deliveries.csv')\n",
        "deliveries.head()"
      ],
      "execution_count": null,
      "outputs": [
        {
          "output_type": "execute_result",
          "data": {
            "text/html": [
              "<div>\n",
              "<style scoped>\n",
              "    .dataframe tbody tr th:only-of-type {\n",
              "        vertical-align: middle;\n",
              "    }\n",
              "\n",
              "    .dataframe tbody tr th {\n",
              "        vertical-align: top;\n",
              "    }\n",
              "\n",
              "    .dataframe thead th {\n",
              "        text-align: right;\n",
              "    }\n",
              "</style>\n",
              "<table border=\"1\" class=\"dataframe\">\n",
              "  <thead>\n",
              "    <tr style=\"text-align: right;\">\n",
              "      <th></th>\n",
              "      <th>match_id</th>\n",
              "      <th>inning</th>\n",
              "      <th>batting_team</th>\n",
              "      <th>bowling_team</th>\n",
              "      <th>over</th>\n",
              "      <th>ball</th>\n",
              "      <th>batsman</th>\n",
              "      <th>non_striker</th>\n",
              "      <th>bowler</th>\n",
              "      <th>is_super_over</th>\n",
              "      <th>wide_runs</th>\n",
              "      <th>bye_runs</th>\n",
              "      <th>legbye_runs</th>\n",
              "      <th>noball_runs</th>\n",
              "      <th>penalty_runs</th>\n",
              "      <th>batsman_runs</th>\n",
              "      <th>extra_runs</th>\n",
              "      <th>total_runs</th>\n",
              "      <th>player_dismissed</th>\n",
              "      <th>dismissal_kind</th>\n",
              "      <th>fielder</th>\n",
              "    </tr>\n",
              "  </thead>\n",
              "  <tbody>\n",
              "    <tr>\n",
              "      <th>0</th>\n",
              "      <td>1</td>\n",
              "      <td>1</td>\n",
              "      <td>Sunrisers Hyderabad</td>\n",
              "      <td>Royal Challengers Bangalore</td>\n",
              "      <td>1</td>\n",
              "      <td>1</td>\n",
              "      <td>DA Warner</td>\n",
              "      <td>S Dhawan</td>\n",
              "      <td>TS Mills</td>\n",
              "      <td>0</td>\n",
              "      <td>0</td>\n",
              "      <td>0</td>\n",
              "      <td>0</td>\n",
              "      <td>0</td>\n",
              "      <td>0</td>\n",
              "      <td>0</td>\n",
              "      <td>0</td>\n",
              "      <td>0</td>\n",
              "      <td>NaN</td>\n",
              "      <td>NaN</td>\n",
              "      <td>NaN</td>\n",
              "    </tr>\n",
              "    <tr>\n",
              "      <th>1</th>\n",
              "      <td>1</td>\n",
              "      <td>1</td>\n",
              "      <td>Sunrisers Hyderabad</td>\n",
              "      <td>Royal Challengers Bangalore</td>\n",
              "      <td>1</td>\n",
              "      <td>2</td>\n",
              "      <td>DA Warner</td>\n",
              "      <td>S Dhawan</td>\n",
              "      <td>TS Mills</td>\n",
              "      <td>0</td>\n",
              "      <td>0</td>\n",
              "      <td>0</td>\n",
              "      <td>0</td>\n",
              "      <td>0</td>\n",
              "      <td>0</td>\n",
              "      <td>0</td>\n",
              "      <td>0</td>\n",
              "      <td>0</td>\n",
              "      <td>NaN</td>\n",
              "      <td>NaN</td>\n",
              "      <td>NaN</td>\n",
              "    </tr>\n",
              "    <tr>\n",
              "      <th>2</th>\n",
              "      <td>1</td>\n",
              "      <td>1</td>\n",
              "      <td>Sunrisers Hyderabad</td>\n",
              "      <td>Royal Challengers Bangalore</td>\n",
              "      <td>1</td>\n",
              "      <td>3</td>\n",
              "      <td>DA Warner</td>\n",
              "      <td>S Dhawan</td>\n",
              "      <td>TS Mills</td>\n",
              "      <td>0</td>\n",
              "      <td>0</td>\n",
              "      <td>0</td>\n",
              "      <td>0</td>\n",
              "      <td>0</td>\n",
              "      <td>0</td>\n",
              "      <td>4</td>\n",
              "      <td>0</td>\n",
              "      <td>4</td>\n",
              "      <td>NaN</td>\n",
              "      <td>NaN</td>\n",
              "      <td>NaN</td>\n",
              "    </tr>\n",
              "    <tr>\n",
              "      <th>3</th>\n",
              "      <td>1</td>\n",
              "      <td>1</td>\n",
              "      <td>Sunrisers Hyderabad</td>\n",
              "      <td>Royal Challengers Bangalore</td>\n",
              "      <td>1</td>\n",
              "      <td>4</td>\n",
              "      <td>DA Warner</td>\n",
              "      <td>S Dhawan</td>\n",
              "      <td>TS Mills</td>\n",
              "      <td>0</td>\n",
              "      <td>0</td>\n",
              "      <td>0</td>\n",
              "      <td>0</td>\n",
              "      <td>0</td>\n",
              "      <td>0</td>\n",
              "      <td>0</td>\n",
              "      <td>0</td>\n",
              "      <td>0</td>\n",
              "      <td>NaN</td>\n",
              "      <td>NaN</td>\n",
              "      <td>NaN</td>\n",
              "    </tr>\n",
              "    <tr>\n",
              "      <th>4</th>\n",
              "      <td>1</td>\n",
              "      <td>1</td>\n",
              "      <td>Sunrisers Hyderabad</td>\n",
              "      <td>Royal Challengers Bangalore</td>\n",
              "      <td>1</td>\n",
              "      <td>5</td>\n",
              "      <td>DA Warner</td>\n",
              "      <td>S Dhawan</td>\n",
              "      <td>TS Mills</td>\n",
              "      <td>0</td>\n",
              "      <td>2</td>\n",
              "      <td>0</td>\n",
              "      <td>0</td>\n",
              "      <td>0</td>\n",
              "      <td>0</td>\n",
              "      <td>0</td>\n",
              "      <td>2</td>\n",
              "      <td>2</td>\n",
              "      <td>NaN</td>\n",
              "      <td>NaN</td>\n",
              "      <td>NaN</td>\n",
              "    </tr>\n",
              "  </tbody>\n",
              "</table>\n",
              "</div>"
            ],
            "text/plain": [
              "   match_id  inning  ... dismissal_kind fielder\n",
              "0         1       1  ...            NaN     NaN\n",
              "1         1       1  ...            NaN     NaN\n",
              "2         1       1  ...            NaN     NaN\n",
              "3         1       1  ...            NaN     NaN\n",
              "4         1       1  ...            NaN     NaN\n",
              "\n",
              "[5 rows x 21 columns]"
            ]
          },
          "metadata": {},
          "execution_count": 36
        }
      ]
    },
    {
      "cell_type": "code",
      "metadata": {
        "colab": {
          "base_uri": "https://localhost:8080/"
        },
        "id": "IivoCMW6mAwt",
        "outputId": "ad73a424-ebee-4a11-b2a4-15a3cdd3e3da"
      },
      "source": [
        "deliveries['match_id'].unique()"
      ],
      "execution_count": null,
      "outputs": [
        {
          "output_type": "execute_result",
          "data": {
            "text/plain": [
              "array([    1,     2,     3,     4,     5,     6,     7,     8,     9,\n",
              "          10,    11,    12,    13,    14,    15,    16,    17,    18,\n",
              "          19,    20,    21,    22,    23,    24,    25,    26,    27,\n",
              "          28,    29,    30,    31,    32,    33,    34,    35,    36,\n",
              "          37,    38,    39,    40,    41,    42,    43,    44,    45,\n",
              "          46,    47,    48,    49,    50,    51,    52,    53,    54,\n",
              "          55,    56,    57,    58,    59,    60,    61,    62,    63,\n",
              "          64,    65,    66,    67,    68,    69,    70,    71,    72,\n",
              "          73,    74,    75,    76,    77,    78,    79,    80,    81,\n",
              "          82,    83,    84,    85,    86,    87,    88,    89,    90,\n",
              "          91,    92,    93,    94,    95,    96,    97,    98,    99,\n",
              "         100,   101,   102,   103,   104,   105,   106,   107,   108,\n",
              "         109,   110,   111,   112,   113,   114,   115,   116,   117,\n",
              "         118,   119,   120,   121,   122,   123,   124,   125,   126,\n",
              "         127,   128,   129,   130,   131,   132,   133,   134,   135,\n",
              "         136,   137,   138,   139,   140,   141,   142,   143,   144,\n",
              "         145,   146,   147,   148,   149,   150,   151,   152,   153,\n",
              "         154,   155,   156,   157,   158,   159,   160,   161,   162,\n",
              "         163,   164,   165,   166,   167,   168,   169,   170,   171,\n",
              "         172,   173,   174,   175,   176,   177,   178,   179,   180,\n",
              "         181,   182,   183,   184,   185,   186,   187,   188,   189,\n",
              "         190,   191,   192,   193,   194,   195,   196,   197,   198,\n",
              "         199,   200,   201,   202,   203,   204,   205,   206,   207,\n",
              "         208,   209,   210,   211,   212,   213,   214,   215,   216,\n",
              "         217,   218,   219,   220,   221,   222,   223,   224,   225,\n",
              "         226,   227,   228,   229,   230,   231,   232,   233,   234,\n",
              "         235,   236,   237,   238,   239,   240,   241,   242,   243,\n",
              "         244,   245,   246,   247,   248,   249,   250,   251,   252,\n",
              "         253,   254,   255,   256,   257,   258,   259,   260,   261,\n",
              "         262,   263,   264,   265,   266,   267,   268,   269,   270,\n",
              "         271,   272,   273,   274,   275,   276,   277,   278,   279,\n",
              "         280,   281,   282,   283,   284,   285,   286,   287,   288,\n",
              "         289,   290,   291,   292,   293,   294,   295,   296,   297,\n",
              "         298,   299,   300,   301,   302,   303,   304,   305,   306,\n",
              "         307,   308,   309,   310,   311,   312,   313,   314,   315,\n",
              "         316,   317,   318,   319,   320,   321,   322,   323,   324,\n",
              "         325,   326,   327,   328,   329,   330,   331,   332,   333,\n",
              "         334,   335,   336,   337,   338,   339,   340,   341,   342,\n",
              "         343,   344,   345,   346,   347,   348,   349,   350,   351,\n",
              "         352,   353,   354,   355,   356,   357,   358,   359,   360,\n",
              "         361,   362,   363,   364,   365,   366,   367,   368,   369,\n",
              "         370,   371,   372,   373,   374,   375,   376,   377,   378,\n",
              "         379,   380,   381,   382,   383,   384,   385,   386,   387,\n",
              "         388,   389,   390,   391,   392,   393,   394,   395,   396,\n",
              "         397,   398,   399,   400,   401,   402,   403,   404,   405,\n",
              "         406,   407,   408,   409,   410,   411,   412,   413,   414,\n",
              "         415,   416,   417,   418,   419,   420,   421,   422,   423,\n",
              "         424,   425,   426,   427,   428,   429,   430,   431,   432,\n",
              "         433,   434,   435,   436,   437,   438,   439,   440,   441,\n",
              "         442,   443,   444,   445,   446,   447,   448,   449,   450,\n",
              "         451,   452,   453,   454,   455,   456,   457,   458,   459,\n",
              "         460,   461,   462,   463,   464,   465,   466,   467,   468,\n",
              "         469,   470,   471,   472,   473,   474,   475,   476,   477,\n",
              "         478,   479,   480,   481,   482,   483,   484,   485,   486,\n",
              "         487,   488,   489,   490,   491,   492,   493,   494,   495,\n",
              "         496,   497,   498,   499,   500,   501,   502,   503,   504,\n",
              "         505,   506,   507,   508,   509,   510,   511,   512,   513,\n",
              "         514,   515,   516,   517,   518,   519,   520,   521,   522,\n",
              "         523,   524,   525,   526,   527,   528,   529,   530,   531,\n",
              "         532,   533,   534,   535,   536,   537,   538,   539,   540,\n",
              "         541,   542,   543,   544,   545,   546,   547,   548,   549,\n",
              "         550,   551,   552,   553,   554,   555,   556,   557,   558,\n",
              "         559,   560,   561,   562,   563,   564,   565,   566,   567,\n",
              "         568,   569,   570,   571,   572,   573,   574,   575,   576,\n",
              "         577,   578,   579,   580,   581,   582,   583,   584,   585,\n",
              "         586,   587,   588,   589,   590,   591,   592,   593,   594,\n",
              "         595,   596,   597,   598,   599,   600,   601,   602,   603,\n",
              "         604,   605,   606,   607,   608,   609,   610,   611,   612,\n",
              "         613,   614,   615,   616,   617,   618,   619,   620,   621,\n",
              "         622,   623,   624,   625,   626,   627,   628,   629,   630,\n",
              "         631,   632,   633,   634,   635,   636,  7894,  7895,  7896,\n",
              "        7897,  7898,  7899,  7900,  7901,  7902,  7903,  7904,  7905,\n",
              "        7906,  7907,  7908,  7909,  7910,  7911,  7912,  7913,  7914,\n",
              "        7915,  7916,  7917,  7918,  7919,  7920,  7921,  7922,  7923,\n",
              "        7924,  7925,  7926,  7927,  7928,  7929,  7930,  7931,  7932,\n",
              "        7933,  7934,  7935,  7936,  7937,  7938,  7939,  7940,  7941,\n",
              "        7942,  7943,  7944,  7945,  7946,  7947,  7948,  7949,  7950,\n",
              "        7951,  7952,  7953, 11137, 11138, 11139, 11140, 11141, 11142,\n",
              "       11143, 11144, 11145, 11146, 11147, 11148, 11149, 11150, 11151,\n",
              "       11152, 11153, 11309, 11310, 11311, 11312, 11313, 11314, 11315,\n",
              "       11316, 11317, 11318, 11319, 11320, 11321, 11322, 11323, 11324,\n",
              "       11325, 11326, 11327, 11328, 11329, 11330, 11331, 11332, 11333,\n",
              "       11334, 11335, 11336, 11337, 11338, 11339, 11340, 11341, 11342,\n",
              "       11343, 11344, 11345, 11346, 11347, 11412, 11413, 11414, 11415])"
            ]
          },
          "metadata": {},
          "execution_count": 37
        }
      ]
    },
    {
      "cell_type": "code",
      "metadata": {
        "colab": {
          "base_uri": "https://localhost:8080/",
          "height": 400
        },
        "id": "aZjHNfL0mka8",
        "outputId": "3fc347bb-7282-442e-e1e5-e2e7d4211f67"
      },
      "source": [
        "match_1=deliveries[deliveries['match_id']==1]  #analysing match 1\n",
        "match_1.head()"
      ],
      "execution_count": null,
      "outputs": [
        {
          "output_type": "execute_result",
          "data": {
            "text/html": [
              "<div>\n",
              "<style scoped>\n",
              "    .dataframe tbody tr th:only-of-type {\n",
              "        vertical-align: middle;\n",
              "    }\n",
              "\n",
              "    .dataframe tbody tr th {\n",
              "        vertical-align: top;\n",
              "    }\n",
              "\n",
              "    .dataframe thead th {\n",
              "        text-align: right;\n",
              "    }\n",
              "</style>\n",
              "<table border=\"1\" class=\"dataframe\">\n",
              "  <thead>\n",
              "    <tr style=\"text-align: right;\">\n",
              "      <th></th>\n",
              "      <th>match_id</th>\n",
              "      <th>inning</th>\n",
              "      <th>batting_team</th>\n",
              "      <th>bowling_team</th>\n",
              "      <th>over</th>\n",
              "      <th>ball</th>\n",
              "      <th>batsman</th>\n",
              "      <th>non_striker</th>\n",
              "      <th>bowler</th>\n",
              "      <th>is_super_over</th>\n",
              "      <th>wide_runs</th>\n",
              "      <th>bye_runs</th>\n",
              "      <th>legbye_runs</th>\n",
              "      <th>noball_runs</th>\n",
              "      <th>penalty_runs</th>\n",
              "      <th>batsman_runs</th>\n",
              "      <th>extra_runs</th>\n",
              "      <th>total_runs</th>\n",
              "      <th>player_dismissed</th>\n",
              "      <th>dismissal_kind</th>\n",
              "      <th>fielder</th>\n",
              "    </tr>\n",
              "  </thead>\n",
              "  <tbody>\n",
              "    <tr>\n",
              "      <th>0</th>\n",
              "      <td>1</td>\n",
              "      <td>1</td>\n",
              "      <td>Sunrisers Hyderabad</td>\n",
              "      <td>Royal Challengers Bangalore</td>\n",
              "      <td>1</td>\n",
              "      <td>1</td>\n",
              "      <td>DA Warner</td>\n",
              "      <td>S Dhawan</td>\n",
              "      <td>TS Mills</td>\n",
              "      <td>0</td>\n",
              "      <td>0</td>\n",
              "      <td>0</td>\n",
              "      <td>0</td>\n",
              "      <td>0</td>\n",
              "      <td>0</td>\n",
              "      <td>0</td>\n",
              "      <td>0</td>\n",
              "      <td>0</td>\n",
              "      <td>NaN</td>\n",
              "      <td>NaN</td>\n",
              "      <td>NaN</td>\n",
              "    </tr>\n",
              "    <tr>\n",
              "      <th>1</th>\n",
              "      <td>1</td>\n",
              "      <td>1</td>\n",
              "      <td>Sunrisers Hyderabad</td>\n",
              "      <td>Royal Challengers Bangalore</td>\n",
              "      <td>1</td>\n",
              "      <td>2</td>\n",
              "      <td>DA Warner</td>\n",
              "      <td>S Dhawan</td>\n",
              "      <td>TS Mills</td>\n",
              "      <td>0</td>\n",
              "      <td>0</td>\n",
              "      <td>0</td>\n",
              "      <td>0</td>\n",
              "      <td>0</td>\n",
              "      <td>0</td>\n",
              "      <td>0</td>\n",
              "      <td>0</td>\n",
              "      <td>0</td>\n",
              "      <td>NaN</td>\n",
              "      <td>NaN</td>\n",
              "      <td>NaN</td>\n",
              "    </tr>\n",
              "    <tr>\n",
              "      <th>2</th>\n",
              "      <td>1</td>\n",
              "      <td>1</td>\n",
              "      <td>Sunrisers Hyderabad</td>\n",
              "      <td>Royal Challengers Bangalore</td>\n",
              "      <td>1</td>\n",
              "      <td>3</td>\n",
              "      <td>DA Warner</td>\n",
              "      <td>S Dhawan</td>\n",
              "      <td>TS Mills</td>\n",
              "      <td>0</td>\n",
              "      <td>0</td>\n",
              "      <td>0</td>\n",
              "      <td>0</td>\n",
              "      <td>0</td>\n",
              "      <td>0</td>\n",
              "      <td>4</td>\n",
              "      <td>0</td>\n",
              "      <td>4</td>\n",
              "      <td>NaN</td>\n",
              "      <td>NaN</td>\n",
              "      <td>NaN</td>\n",
              "    </tr>\n",
              "    <tr>\n",
              "      <th>3</th>\n",
              "      <td>1</td>\n",
              "      <td>1</td>\n",
              "      <td>Sunrisers Hyderabad</td>\n",
              "      <td>Royal Challengers Bangalore</td>\n",
              "      <td>1</td>\n",
              "      <td>4</td>\n",
              "      <td>DA Warner</td>\n",
              "      <td>S Dhawan</td>\n",
              "      <td>TS Mills</td>\n",
              "      <td>0</td>\n",
              "      <td>0</td>\n",
              "      <td>0</td>\n",
              "      <td>0</td>\n",
              "      <td>0</td>\n",
              "      <td>0</td>\n",
              "      <td>0</td>\n",
              "      <td>0</td>\n",
              "      <td>0</td>\n",
              "      <td>NaN</td>\n",
              "      <td>NaN</td>\n",
              "      <td>NaN</td>\n",
              "    </tr>\n",
              "    <tr>\n",
              "      <th>4</th>\n",
              "      <td>1</td>\n",
              "      <td>1</td>\n",
              "      <td>Sunrisers Hyderabad</td>\n",
              "      <td>Royal Challengers Bangalore</td>\n",
              "      <td>1</td>\n",
              "      <td>5</td>\n",
              "      <td>DA Warner</td>\n",
              "      <td>S Dhawan</td>\n",
              "      <td>TS Mills</td>\n",
              "      <td>0</td>\n",
              "      <td>2</td>\n",
              "      <td>0</td>\n",
              "      <td>0</td>\n",
              "      <td>0</td>\n",
              "      <td>0</td>\n",
              "      <td>0</td>\n",
              "      <td>2</td>\n",
              "      <td>2</td>\n",
              "      <td>NaN</td>\n",
              "      <td>NaN</td>\n",
              "      <td>NaN</td>\n",
              "    </tr>\n",
              "  </tbody>\n",
              "</table>\n",
              "</div>"
            ],
            "text/plain": [
              "   match_id  inning  ... dismissal_kind fielder\n",
              "0         1       1  ...            NaN     NaN\n",
              "1         1       1  ...            NaN     NaN\n",
              "2         1       1  ...            NaN     NaN\n",
              "3         1       1  ...            NaN     NaN\n",
              "4         1       1  ...            NaN     NaN\n",
              "\n",
              "[5 rows x 21 columns]"
            ]
          },
          "metadata": {},
          "execution_count": 39
        }
      ]
    },
    {
      "cell_type": "code",
      "metadata": {
        "colab": {
          "base_uri": "https://localhost:8080/"
        },
        "id": "bleSl2WNn0xA",
        "outputId": "5d3c5d59-1830-4b1a-e4dc-f5fe9eb33ed8"
      },
      "source": [
        "match_1.shape #248 balls played...  total 8 extras in match"
      ],
      "execution_count": null,
      "outputs": [
        {
          "output_type": "execute_result",
          "data": {
            "text/plain": [
              "(248, 21)"
            ]
          },
          "metadata": {},
          "execution_count": 40
        }
      ]
    },
    {
      "cell_type": "code",
      "metadata": {
        "id": "FmXdyXann6Dw"
      },
      "source": [
        "srh=match_1[match_1['inning']==1]"
      ],
      "execution_count": null,
      "outputs": []
    },
    {
      "cell_type": "code",
      "metadata": {
        "colab": {
          "base_uri": "https://localhost:8080/"
        },
        "id": "IAJr1BAZoKko",
        "outputId": "b4599435-d921-4f06-f81b-5baf9df60c90"
      },
      "source": [
        "srh['batsman_runs'].value_counts() #analysing the no. of 4s, 6s, 0s etc in srh innings"
      ],
      "execution_count": null,
      "outputs": [
        {
          "output_type": "execute_result",
          "data": {
            "text/plain": [
              "1    57\n",
              "0    32\n",
              "4    17\n",
              "6     9\n",
              "2     9\n",
              "3     1\n",
              "Name: batsman_runs, dtype: int64"
            ]
          },
          "metadata": {},
          "execution_count": 42
        }
      ]
    },
    {
      "cell_type": "code",
      "metadata": {
        "colab": {
          "base_uri": "https://localhost:8080/"
        },
        "id": "S15w-j_po5e6",
        "outputId": "4d6f6ef2-4dd1-44f0-8f1b-4c369d277e2a"
      },
      "source": [
        "srh['dismissal_kind'].value_counts()  #wickets analysis of srh"
      ],
      "execution_count": null,
      "outputs": [
        {
          "output_type": "execute_result",
          "data": {
            "text/plain": [
              "caught    3\n",
              "bowled    1\n",
              "Name: dismissal_kind, dtype: int64"
            ]
          },
          "metadata": {},
          "execution_count": 43
        }
      ]
    },
    {
      "cell_type": "code",
      "metadata": {
        "colab": {
          "base_uri": "https://localhost:8080/"
        },
        "id": "ju9loS7npYQv",
        "outputId": "b40f5d44-6def-4c06-fd8e-243694eafb01"
      },
      "source": [
        "rcb = match_1[match_1['inning']==2] #selecting rcb's innings\n",
        "rcb['batsman_runs'].value_counts() #rcb runs analysis"
      ],
      "execution_count": null,
      "outputs": [
        {
          "output_type": "execute_result",
          "data": {
            "text/plain": [
              "0    49\n",
              "1    44\n",
              "4    15\n",
              "6     8\n",
              "2     7\n",
              "Name: batsman_runs, dtype: int64"
            ]
          },
          "metadata": {},
          "execution_count": 45
        }
      ]
    },
    {
      "cell_type": "code",
      "metadata": {
        "colab": {
          "base_uri": "https://localhost:8080/"
        },
        "id": "WIzPGUbbpsx1",
        "outputId": "52b8d9ff-5d58-45cc-f9f5-006ad5def4d0"
      },
      "source": [
        "rcb['dismissal_kind'].value_counts() #wickets analysis of rcb innings"
      ],
      "execution_count": null,
      "outputs": [
        {
          "output_type": "execute_result",
          "data": {
            "text/plain": [
              "caught     6\n",
              "run out    2\n",
              "bowled     2\n",
              "Name: dismissal_kind, dtype: int64"
            ]
          },
          "metadata": {},
          "execution_count": 46
        }
      ]
    },
    {
      "cell_type": "code",
      "metadata": {
        "id": "NX7pz24np9aL"
      },
      "source": [
        ""
      ],
      "execution_count": null,
      "outputs": []
    }
  ]
}